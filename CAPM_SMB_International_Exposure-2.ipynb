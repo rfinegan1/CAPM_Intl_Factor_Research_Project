{
 "cells": [
  {
   "cell_type": "code",
   "execution_count": null,
   "metadata": {},
   "outputs": [],
   "source": [
    "import pandas as pd\n",
    "import pandas_datareader.data as web\n",
    "import numpy as np\n",
    "import math\n",
    "import datetime as dt\n",
    "import matplotlib as mpl\n",
    "import matplotlib.pyplot as plt\n",
    "import statistics as stats\n",
    "import scipy\n",
    "from scipy.stats.stats import pearsonr\n",
    "from matplotlib import style\n",
    "import warnings\n",
    "import seaborn as sns\n",
    "import requests\n",
    "import bs4 as bs\n",
    "import os\n",
    "import csv\n",
    "from openpyxl.workbook import Workbook as wb\n",
    "from openpyxl import load_workbook\n",
    "from openpyxl.styles import Font\n",
    "from openpyxl.utils.dataframe import dataframe_to_rows\n",
    "from pylab import rcParams\n",
    "from sklearn import linear_model\n",
    "import statsmodels.api as sm\n",
    "from sklearn.model_selection import train_test_split \n",
    "from sklearn.linear_model import LinearRegression\n",
    "from sklearn import metrics\n",
    "warnings.filterwarnings('ignore') "
   ]
  },
  {
   "cell_type": "code",
   "execution_count": null,
   "metadata": {},
   "outputs": [],
   "source": [
    "# Dates for backtest\n",
    "#'2004-12-31', '2006-12-31', '2008-12-31', '2010-12-31', '2012-12-31', '2008-12-31'\n",
    "#'2009-12-31', '2011-12-31', '2013-12-31', '2015-12-31', '2017-12-31', '2019-12-31'\n",
    "#'2007-12-31', '2009-12-31', '2011-12-31', '2013-12-31', '2015-12-31', '2015-12-31'\n",
    "#'2007-12-20', '2009-12-20', '2011-12-20', '2013-12-20', '2015-12-20', '2015-12-20'\n",
    "#'2014-01-20', '2016-01-20', '2018-01-20', '2020-01-20'"
   ]
  },
  {
   "cell_type": "code",
   "execution_count": null,
   "metadata": {},
   "outputs": [],
   "source": [
    "start = input(\"Start Date ('1998-12-31'): \")\n",
    "end = input(\"End Date ('2002-12-31'): \")\n",
    "gamma_end = input(\"Gamma End Date ('2001-12-31'): \")\n",
    "start_er =  input(\"Start Returns('2001-12-20'): \")\n",
    "new_end = input(\"End for ROW: \")\n",
    "year_excess_return = input(\"Years for Excess Return Test: \")"
   ]
  },
  {
   "cell_type": "code",
   "execution_count": null,
   "metadata": {},
   "outputs": [],
   "source": [
    "data = pd.read_excel('stock_returns_data.xlsx')"
   ]
  },
  {
   "cell_type": "code",
   "execution_count": null,
   "metadata": {},
   "outputs": [],
   "source": [
    "df = data[['Names Date','Ticker Symbol','Returns']]"
   ]
  },
  {
   "cell_type": "code",
   "execution_count": null,
   "metadata": {},
   "outputs": [],
   "source": [
    "df = df[pd.to_numeric(df['Returns'], errors='coerce').notnull()]"
   ]
  },
  {
   "cell_type": "code",
   "execution_count": null,
   "metadata": {
    "scrolled": false
   },
   "outputs": [],
   "source": [
    "df['Date'] = df['Names Date'].apply(lambda x: pd.to_datetime(str(x), format='%Y%m%d'))\n",
    "df"
   ]
  },
  {
   "cell_type": "code",
   "execution_count": null,
   "metadata": {},
   "outputs": [],
   "source": [
    "df['Returns']=df['Returns']*100\n",
    "df1 = df[['Date','Ticker Symbol','Returns']]\n",
    "df1['Date'] = df1['Date'].map(lambda x: 100*x.year + x.month)\n",
    "df1['Date'] = df1['Date'].apply(lambda x: pd.to_datetime(str(x), format='%Y%m'))\n",
    "df1"
   ]
  },
  {
   "cell_type": "code",
   "execution_count": null,
   "metadata": {},
   "outputs": [],
   "source": [
    "df1 = df1[(df1['Date'] > start) & (df1['Date'] < end)]\n",
    "df1"
   ]
  },
  {
   "cell_type": "code",
   "execution_count": null,
   "metadata": {},
   "outputs": [],
   "source": [
    "df1 = df1.dropna(subset=['Ticker Symbol'])"
   ]
  },
  {
   "cell_type": "code",
   "execution_count": null,
   "metadata": {},
   "outputs": [],
   "source": [
    "fama = pd.read_excel('FF_Research_Data_Factors.xlsx')\n",
    "fama = fama[['Date','Mkt-RF','RF']]\n",
    "fama['Returns'] = fama['Mkt-RF']+fama['RF']\n",
    "fama['Ticker Symbol']='SP500'\n",
    "fama1 = fama[['Date','Ticker Symbol','Returns','RF']]\n",
    "fama1['Date'] = fama1['Date'].apply(lambda x: pd.to_datetime(str(x), format='%Y%m'))\n",
    "fama1"
   ]
  },
  {
   "cell_type": "code",
   "execution_count": null,
   "metadata": {},
   "outputs": [],
   "source": [
    "dfAll = pd.concat([df1,fama1])\n",
    "dfAll = dfAll.reset_index()\n",
    "dfAll = dfAll[(dfAll['Date'] > start) & (dfAll['Date'] < end)]\n",
    "dfAll = dfAll[['Date','Ticker Symbol','Returns','RF']]\n",
    "row1 = dfAll.tail(60)\n",
    "#row1 = dfAll.tail(132)\n",
    "row1 = row1[(row1['Date'] > start) & (row1['Date'] < gamma_end)]\n",
    "row1 = row1['RF'].values\n",
    "#row2 = dfAll.tail(48)\n",
    "row2 = dfAll.tail(24)\n",
    "row2 = row2['RF'].values\n",
    "row3 = dfAll.tail(60)['RF'].values\n",
    "#row3 = dfAll.tail(132)['RF'].values"
   ]
  },
  {
   "cell_type": "code",
   "execution_count": null,
   "metadata": {},
   "outputs": [],
   "source": [
    "dfAll.tail(24)"
   ]
  },
  {
   "cell_type": "code",
   "execution_count": null,
   "metadata": {},
   "outputs": [],
   "source": [
    "row2"
   ]
  },
  {
   "cell_type": "code",
   "execution_count": null,
   "metadata": {},
   "outputs": [],
   "source": [
    "stock_count = dfAll.groupby('Ticker Symbol')['Returns'].count()\n",
    "stock_count = stock_count[stock_count == 60]\n",
    "#stock_count = stock_count[stock_count == 132]\n",
    "stocks = [*stock_count.keys()]\n",
    "stocks"
   ]
  },
  {
   "cell_type": "code",
   "execution_count": null,
   "metadata": {},
   "outputs": [],
   "source": [
    "dfAll1 = dfAll.loc[dfAll['Ticker Symbol'].isin(stocks)]\n",
    "dfAll1"
   ]
  },
  {
   "cell_type": "code",
   "execution_count": null,
   "metadata": {},
   "outputs": [],
   "source": [
    "df_row = web.DataReader('VEMAX','yahoo',start,new_end)\n",
    "df_row = df_row.reset_index()\n",
    "df_row = df_row[['Date','Adj Close']]\n",
    "df_row = df_row.resample('M', on='Date').last()\n",
    "df_row = df_row[['Adj Close']]\n",
    "df_row['Monthly Return'] = df_row['Adj Close'].pct_change()*100\n",
    "df_row['ROW']=df_row['Monthly Return']\n",
    "df_row = df_row[['ROW']]\n",
    "df_row = df_row.reset_index()\n",
    "df_row = df_row[(df_row['Date'] > start) & (df_row['Date'] < new_end)]\n",
    "df_row = df_row.set_index('Date')\n",
    "df_row"
   ]
  },
  {
   "cell_type": "code",
   "execution_count": null,
   "metadata": {},
   "outputs": [],
   "source": [
    "df_row['RiskFree']=row3\n",
    "df_row['ExcessReturn']=df_row['ROW']-df_row['RiskFree']\n",
    "row = df_row['ExcessReturn'].values\n",
    "row"
   ]
  },
  {
   "cell_type": "code",
   "execution_count": null,
   "metadata": {},
   "outputs": [],
   "source": [
    "###Beta calculations###\n",
    "###Want monthly return beta from 2015 to 2017###\n",
    "dfAll1.reset_index()\n",
    "dfBeta = dfAll1[(dfAll1['Date'] > start) & (dfAll1['Date'] < gamma_end)]\n",
    "dfBeta = dfBeta.reset_index()\n",
    "dfBeta = dfBeta[['Date','Ticker Symbol','Returns','RF']]\n",
    "dfBeta"
   ]
  },
  {
   "cell_type": "code",
   "execution_count": null,
   "metadata": {},
   "outputs": [],
   "source": [
    "#panel data\n",
    "symbols = dfBeta.groupby('Ticker Symbol')\n",
    "market_df = symbols.get_group('SP500')\n",
    "market_df = market_df[['Date','Returns']].set_index('Date')\n",
    "table = dfBeta.pivot(index='Date',columns='Ticker Symbol',values='Returns')  \n",
    "table"
   ]
  },
  {
   "cell_type": "code",
   "execution_count": null,
   "metadata": {},
   "outputs": [],
   "source": [
    "table['RiskFree'] = row1\n",
    "table['ROW'] = row[:36]\n",
    "#table['ROW'] = row[:84]\n",
    "table1 = table.reset_index()\n",
    "table1"
   ]
  },
  {
   "cell_type": "code",
   "execution_count": null,
   "metadata": {},
   "outputs": [],
   "source": [
    "s = table1.columns[1:]\n",
    "s"
   ]
  },
  {
   "cell_type": "code",
   "execution_count": null,
   "metadata": {},
   "outputs": [],
   "source": [
    "beta_df = []\n",
    "for stock in s:\n",
    "    table1[stock] = table1[stock]-table1['RiskFree']\n",
    "    beta_df.append({'Date':table1['Date'], 'Ticker':stock, 'ExcessReturn': table1[stock]})\n",
    "beta_df = pd.DataFrame(beta_df)\n",
    "beta_df1 = beta_df.set_index(['Ticker']).apply(pd.Series.explode).reset_index()"
   ]
  },
  {
   "cell_type": "code",
   "execution_count": null,
   "metadata": {},
   "outputs": [],
   "source": [
    "beta_df2 = beta_df1.pivot(index='Date',columns='Ticker',values='ExcessReturn')\n",
    "beta_df2"
   ]
  },
  {
   "cell_type": "code",
   "execution_count": null,
   "metadata": {},
   "outputs": [],
   "source": [
    "y = beta_df2[['A']].values\n",
    "x = beta_df2[['SP500', 'ROW']] \n",
    "regr = linear_model.LinearRegression()\n",
    "regr.fit(x, y)\n",
    "model = sm.OLS(y.astype(float), x.astype(float)).fit()\n",
    "beta = model.params\n",
    "beta"
   ]
  },
  {
   "cell_type": "code",
   "execution_count": null,
   "metadata": {},
   "outputs": [],
   "source": [
    "equities = beta_df2.columns\n",
    "main_df = []\n",
    "for equity in equities:\n",
    "    y = beta_df2[[equity]].values\n",
    "    x = beta_df2[['SP500', 'ROW']] \n",
    "    regr = linear_model.LinearRegression()\n",
    "    regr.fit(x, y)\n",
    "    model = sm.OLS(y.astype(float), x.astype(float)).fit()\n",
    "    predictions = model.predict(x) \n",
    "    beta = regr.coef_\n",
    "    main_df.append({'Ticker':equity, 'Beta': beta})\n",
    "main_df = pd.DataFrame(main_df)\n",
    "main_df"
   ]
  },
  {
   "cell_type": "code",
   "execution_count": null,
   "metadata": {},
   "outputs": [],
   "source": [
    "equities = beta_df2.columns\n",
    "main_df = []\n",
    "for equity in equities:    \n",
    "    y = beta_df2[[equity]].values\n",
    "    x = beta_df2[['SP500', 'ROW']]\n",
    "    regr = linear_model.LinearRegression()\n",
    "    regr.fit(x, y)\n",
    "    model = sm.OLS(y.astype(float), x.astype(float)).fit()\n",
    "    beta = model.params \n",
    "    main_df.append({'Ticker':equity, 'Beta': beta[0], 'Gamma': beta[1]})\n",
    "main_df = pd.DataFrame(main_df)\n",
    "#main_df.to_excel('gamma_tickers.xlsx')"
   ]
  },
  {
   "cell_type": "code",
   "execution_count": null,
   "metadata": {},
   "outputs": [],
   "source": [
    "main_df1 = main_df.set_index('Ticker')\n",
    "#main_df1.to_excel('beta_regression.xlsx')"
   ]
  },
  {
   "cell_type": "code",
   "execution_count": null,
   "metadata": {},
   "outputs": [],
   "source": [
    "row1"
   ]
  },
  {
   "cell_type": "code",
   "execution_count": null,
   "metadata": {},
   "outputs": [],
   "source": [
    "df_stock_returns = dfAll1[(dfAll1['Date'] > start_er) & (dfAll1['Date'] < end)]\n",
    "stock_annual_returns = df_stock_returns.loc[df_stock_returns['Ticker Symbol'].isin(stocks)]\n",
    "stock_returns = stock_annual_returns.pivot(index='Date',columns='Ticker Symbol',values='Returns')\n",
    "stock_returns['Risk Free Rate'] = row2\n",
    "stock_returns = stock_returns.reset_index()\n",
    "z = stock_returns.columns\n",
    "z = z[1:]\n",
    "stock_returns_previous = []\n",
    "for item in z:\n",
    "    stock_returns[item] = stock_returns[item]-stock_returns['Risk Free Rate']\n",
    "    stock_returns_previous.append({'Ticker':item, 'Excess Return': stock_returns[item].sum()})\n",
    "stock_returns_previous = pd.DataFrame(stock_returns_previous)\n",
    "stock_returns_previous"
   ]
  },
  {
   "cell_type": "code",
   "execution_count": null,
   "metadata": {},
   "outputs": [],
   "source": [
    "#divide this by the number of years we tracked excess returns for to get the average annual excess return\n",
    "stock_returns_previous['Annual Excess Return'] = stock_returns_previous['Excess Return']/int(year_excess_return)\n",
    "excess_return_df = stock_returns_previous[['Ticker', 'Annual Excess Return']].set_index('Ticker')"
   ]
  },
  {
   "cell_type": "code",
   "execution_count": null,
   "metadata": {},
   "outputs": [],
   "source": [
    "main1 = pd.concat([main_df1,excess_return_df],axis=1)\n",
    "main1.index.names = ['Ticker']\n",
    "main = main1\n",
    "main = main.reset_index()\n",
    "main.to_excel('gamma_tickers.xlsx')"
   ]
  },
  {
   "cell_type": "code",
   "execution_count": null,
   "metadata": {},
   "outputs": [],
   "source": [
    "###Go to mrkt cap weight portfolio to finish the weights to transport to excel"
   ]
  },
  {
   "cell_type": "code",
   "execution_count": null,
   "metadata": {},
   "outputs": [],
   "source": [
    "import pandas as pd\n",
    "import pandas_datareader.data as web\n",
    "import numpy as np\n",
    "import math\n",
    "import datetime as dt\n",
    "from openpyxl.workbook import Workbook as wb\n",
    "from openpyxl import load_workbook\n",
    "from openpyxl.styles import Font\n",
    "from openpyxl.utils.dataframe import dataframe_to_rows "
   ]
  },
  {
   "cell_type": "code",
   "execution_count": null,
   "metadata": {},
   "outputs": [],
   "source": [
    "date_mktcap = input(\"Date (20071230): \")\n",
    "yahoo_date = input(\"Date: ('2007-12-30'): \")"
   ]
  },
  {
   "cell_type": "code",
   "execution_count": null,
   "metadata": {},
   "outputs": [],
   "source": [
    "shrout = pd.read_excel('shares_outstanding.xlsx')"
   ]
  },
  {
   "cell_type": "code",
   "execution_count": null,
   "metadata": {},
   "outputs": [],
   "source": [
    "shrout.head(60)"
   ]
  },
  {
   "cell_type": "code",
   "execution_count": null,
   "metadata": {},
   "outputs": [],
   "source": [
    "main = pd.read_excel('gamma_tickers.xlsx')"
   ]
  },
  {
   "cell_type": "code",
   "execution_count": null,
   "metadata": {},
   "outputs": [],
   "source": [
    "out = shrout[shrout['Names Date'] == int(date_mktcap)]\n",
    "shares = []\n",
    "for ticker in out['Ticker Symbol']:\n",
    "    shares.append(ticker)\n",
    "shares = pd.DataFrame({'Ticker1':shares})\n",
    "ticker_combined = pd.concat([shares,main['Ticker']],axis=1)\n",
    "out"
   ]
  },
  {
   "cell_type": "code",
   "execution_count": null,
   "metadata": {},
   "outputs": [],
   "source": [
    "match = ticker_combined['Ticker1'].isin(ticker_combined['Ticker'])\n",
    "match = ticker_combined[match]\n",
    "matches = []\n",
    "for ticker in match['Ticker']:\n",
    "    matches.append(ticker)\n",
    "matches = pd.DataFrame({'Matching Tickers':matches})\n",
    "matches = matches.dropna()\n",
    "sorted_matches = matches.set_index('Matching Tickers')\n",
    "sorted_matches = sorted_matches.sort_index(ascending = True)\n",
    "sorted_matches = sorted_matches.reset_index()\n",
    "sorted_matches"
   ]
  },
  {
   "cell_type": "code",
   "execution_count": null,
   "metadata": {},
   "outputs": [],
   "source": [
    "failed = []\n",
    "passed = []\n",
    "data_mktcap = pd.DataFrame()\n",
    "for ticker in sorted_matches['Matching Tickers'].values:\n",
    "    try:\n",
    "        data[ticker] = web.DataReader(ticker, data_source= \"yahoo\", start = yahoo_date, end=yahoo_date)[\"Adj Close\"]\n",
    "        passed.append(ticker)\n",
    "    except (IOError, KeyError):\n",
    "        msg = 'Failed to read symbol: {0!r}, replacing with NaN.'\n",
    "        failed.append(ticker)"
   ]
  },
  {
   "cell_type": "code",
   "execution_count": null,
   "metadata": {},
   "outputs": [],
   "source": [
    "#switching it to another name and flipping the table\n",
    "adj_close = data_mktcap\n",
    "#flipping the table \n",
    "adj_close = adj_close.T"
   ]
  },
  {
   "cell_type": "code",
   "execution_count": null,
   "metadata": {},
   "outputs": [],
   "source": [
    "adj_close.index.names = ['Ticker']\n",
    "adj_close.columns = ['Adj Close']\n",
    "adj_close"
   ]
  },
  {
   "cell_type": "code",
   "execution_count": null,
   "metadata": {},
   "outputs": [],
   "source": [
    "adj_close.index.names = ['Ticker']\n",
    "adj_close = adj_close.reset_index()"
   ]
  },
  {
   "cell_type": "code",
   "execution_count": null,
   "metadata": {},
   "outputs": [],
   "source": [
    "shrout1 = shrout.loc[shrout['Ticker Symbol'].isin(adj_close['Ticker'].values)]\n",
    "shrout2 = shrout1[shrout1['Names Date'] == int(date)]\n",
    "shrout2 = shrout2.set_index('Ticker Symbol')\n",
    "shrout2.index.names = ['Ticker']\n",
    "shrout2 = shrout2[['Names Date','Shares Outstanding']]\n",
    "shrout2 = shrout2.sort_index(ascending = True)"
   ]
  },
  {
   "cell_type": "code",
   "execution_count": null,
   "metadata": {},
   "outputs": [],
   "source": [
    "adj_close = adj_close.set_index('Ticker')\n",
    "adj_close"
   ]
  },
  {
   "cell_type": "code",
   "execution_count": null,
   "metadata": {},
   "outputs": [],
   "source": [
    "adj_close.sort_values('Adj Close')"
   ]
  },
  {
   "cell_type": "code",
   "execution_count": null,
   "metadata": {},
   "outputs": [],
   "source": [
    "cap = pd.concat([shrout2,adj_close],axis=1)\n",
    "cap['Market Cap'] = cap['Shares Outstanding']*cap['Adj Close']\n",
    "cap = cap[['Market Cap']]\n",
    "cap['Weight'] = cap['Market Cap']/cap['Market Cap'].values.sum()\n",
    "cap"
   ]
  },
  {
   "cell_type": "code",
   "execution_count": null,
   "metadata": {},
   "outputs": [],
   "source": [
    "cap.sort_values(\"Market Cap\", ascending = False)"
   ]
  },
  {
   "cell_type": "code",
   "execution_count": null,
   "metadata": {},
   "outputs": [],
   "source": [
    "cap.to_excel('weights.xlsx')"
   ]
  },
  {
   "cell_type": "code",
   "execution_count": null,
   "metadata": {},
   "outputs": [],
   "source": [
    "weights = pd.read_excel('weights.xlsx')"
   ]
  },
  {
   "cell_type": "code",
   "execution_count": null,
   "metadata": {},
   "outputs": [],
   "source": [
    "weights"
   ]
  },
  {
   "cell_type": "code",
   "execution_count": null,
   "metadata": {},
   "outputs": [],
   "source": [
    "weights = weights.set_index('Ticker')\n",
    "weights.index.names = ['Ticker']\n",
    "weights"
   ]
  },
  {
   "cell_type": "code",
   "execution_count": null,
   "metadata": {},
   "outputs": [],
   "source": [
    "whole = pd.concat([main1,weights],axis=1)\n",
    "whole = whole.dropna()\n",
    "whole['Beta Weighted'] = whole['Beta']*whole['Weight']\n",
    "whole['Gamma Weighted'] = whole['Gamma']*whole['Weight']\n",
    "whole['Excess Return Weighted'] = whole['Annual Excess Return']*whole['Weight']\n",
    "whole_gamma = whole.sort_values('Gamma',ascending = False)\n",
    "whole_beta = whole.sort_values('Beta',ascending = False)\n",
    "whole_weight = whole.sort_values('Weight',ascending = False)\n",
    "whole_gamma_weight = whole.sort_values('Gamma Weighted',ascending = False)\n",
    "whole_beta_weight = whole.sort_values('Beta Weighted',ascending = False)\n",
    "whole_excess_return_weight = whole.sort_values('Excess Return Weighted',ascending = False)\n",
    "#whole_excess_return_weight\n",
    "whole_gamma_weight"
   ]
  },
  {
   "cell_type": "code",
   "execution_count": null,
   "metadata": {},
   "outputs": [],
   "source": [
    "size = whole.sort_values('Market Cap',ascending = False)\n",
    "size"
   ]
  },
  {
   "cell_type": "code",
   "execution_count": null,
   "metadata": {},
   "outputs": [],
   "source": [
    "s = size[238:][['Beta','Gamma','Annual Excess Return']].sort_values('Gamma',ascending = False)\n",
    "m = size[119:238][['Beta','Gamma','Annual Excess Return']].sort_values('Gamma',ascending = False)\n",
    "l = size[:119][['Beta','Gamma','Annual Excess Return']].sort_values('Gamma',ascending = False)"
   ]
  },
  {
   "cell_type": "code",
   "execution_count": null,
   "metadata": {},
   "outputs": [],
   "source": [
    "###gamma of each portfolio sorted by size (mkt-cap)\n",
    "group_size = 23\n",
    "portfolios = [s.iloc[i:i+group_size] for i in range(0,len(s)-group_size+1,group_size)]   \n",
    "small_portfolio_gammas = []\n",
    "for portfolio in portfolios:\n",
    "    g = (portfolio['Gamma'].mean())\n",
    "    b = (portfolio['Beta'].mean())\n",
    "    r = (portfolio['Annual Excess Return'].mean())\n",
    "    small_portfolio_gammas.append({'Gamma':g, 'Beta':b, 'Annual Excess Return':r})\n",
    "small_portfolio_gammas = pd.DataFrame(small_portfolio_gammas)\n",
    "small_portfolio_gammas"
   ]
  },
  {
   "cell_type": "code",
   "execution_count": null,
   "metadata": {},
   "outputs": [],
   "source": [
    "###gamma of each portfolio sorted by size (mkt-cap)\n",
    "group_size = 23\n",
    "portfolios = [m.iloc[i:i+group_size] for i in range(0,len(m)-group_size+1,group_size)]   \n",
    "medium_portfolio_gammas = []\n",
    "for portfolio in portfolios:\n",
    "    g = (portfolio['Gamma'].mean())\n",
    "    b = (portfolio['Beta'].mean())\n",
    "    r = (portfolio['Annual Excess Return'].mean())\n",
    "    medium_portfolio_gammas.append({'Gamma':g, 'Beta':b, 'Annual Excess Return':r})\n",
    "medium_portfolio_gammas = pd.DataFrame(medium_portfolio_gammas)\n",
    "medium_portfolio_gammas"
   ]
  },
  {
   "cell_type": "code",
   "execution_count": null,
   "metadata": {},
   "outputs": [],
   "source": [
    "###gamma of each portfolio sorted by size (mkt-cap)\n",
    "group_size = 23\n",
    "portfolios = [l.iloc[i:i+group_size] for i in range(0,len(l)-group_size+1,group_size)]   \n",
    "large_portfolio_gammas = []\n",
    "for portfolio in portfolios:\n",
    "    g = (portfolio['Gamma'].mean())\n",
    "    b = (portfolio['Beta'].mean())\n",
    "    r = (portfolio['Annual Excess Return'].mean())\n",
    "    large_portfolio_gammas.append({'Gamma':g, 'Beta':b, 'Annual Excess Return':r})\n",
    "large_portfolio_gammas = pd.DataFrame(large_portfolio_gammas)\n",
    "large_portfolio_gammas"
   ]
  },
  {
   "cell_type": "code",
   "execution_count": null,
   "metadata": {},
   "outputs": [],
   "source": [
    "###gamma of each portfolio sorted from highest to lowest beta\n",
    "group_size = 196\n",
    "portfolios = [whole_gamma_weight.iloc[i:i+group_size] for i in range(0,len(whole_gamma_weight)-group_size+1,group_size)]   \n",
    "portfolio_gammas = []\n",
    "for portfolio in portfolios:\n",
    "    g = (portfolio['Gamma Weighted'].sum())\n",
    "    b = (portfolio['Beta Weighted'].sum())\n",
    "    r = (portfolio['Excess Return Weighted'].sum())\n",
    "    portfolio_gammas.append({'Gamma Weighted':g, 'Beta Weighted':b, 'Excess Return Weighted':r})\n",
    "portfolio_gammas = pd.DataFrame(portfolio_gammas)\n",
    "portfolio_gammas"
   ]
  },
  {
   "cell_type": "code",
   "execution_count": null,
   "metadata": {},
   "outputs": [],
   "source": [
    "###2008-2012\n",
    "whole_beta_weight\n",
    "###beta of each portfolio sorted from highest to lowest beta\n",
    "group_size = 196\n",
    "portfolios = [whole_beta_weight.iloc[i:i+group_size] for i in range(0,len(whole_beta_weight)-group_size+1,group_size)]   \n",
    "portfolio_betas = []\n",
    "for portfolio in portfolios:\n",
    "    g = (portfolio['Gamma Weighted'].sum())\n",
    "    b = (portfolio['Beta Weighted'].sum())\n",
    "    r = (portfolio['Excess Return Weighted'].sum())\n",
    "    portfolio_betas.append({'Gamma Weighted':g, 'Beta Weighted':b, 'Excess Return Weighted':r})\n",
    "portfolio_betas = pd.DataFrame(portfolio_betas)\n",
    "portfolio_betas"
   ]
  },
  {
   "cell_type": "code",
   "execution_count": null,
   "metadata": {},
   "outputs": [],
   "source": [
    "###SP500 excess return for this period\n",
    "excess_return_df.iloc[3495]"
   ]
  },
  {
   "cell_type": "code",
   "execution_count": null,
   "metadata": {},
   "outputs": [],
   "source": [
    "###2009-2019\n",
    "plt.scatter(x = portfolio_gammas['Beta Weighted'], y=portfolio_gammas['Excess Return Weighted'], c=portfolio_gammas['Gamma Weighted'])\n",
    "#plt.scatter(x = portfolio_betas['Beta Weighted'], y=portfolio_betas['Excess Return Weighted'], c='r')\n",
    "plt.title('Mkt Cap Weighted Gamma-Sorted Portfolios to Annual Excess Returns')\n",
    "plt.xlabel('Portfolio Mkt Cap Weighted Beta')\n",
    "plt.ylabel('Annual Excess Return (%)')\n",
    "x = np.linspace(-.5,.5,2)\n",
    "#x = np.linspace(-10,10,20)\n",
    "y = 6.18*x\n",
    "plt.plot(x, y, '-b', label='SP500 excess annual return')\n",
    "plt.legend(loc='upper left')\n",
    "plt.grid()\n",
    "plt.colorbar()\n",
    "plt.show()"
   ]
  },
  {
   "cell_type": "code",
   "execution_count": null,
   "metadata": {},
   "outputs": [],
   "source": [
    "#plt.scatter(x = portfolio_gammas['Beta Weighted'], y=portfolio_gammas['Excess Return Weighted'], c=portfolio_gammas['Gamma Weighted'])\n",
    "plt.scatter(x = portfolio_betas['Beta Weighted'], y=portfolio_betas['Excess Return Weighted'], c='r')\n",
    "plt.title('Mkt Cap Weighted Beta-Sorted Portfolios to Annual Excess Returns')\n",
    "plt.xlabel('Portfolio Mkt Cap Weighted Beta')\n",
    "plt.ylabel('Annual Excess Return (%)')\n",
    "x = np.linspace(-.5,.5,2)\n",
    "y = 16.355*x\n",
    "plt.plot(x, y, '-b', label='SP500 excess annual return')\n",
    "plt.legend(loc='upper left')\n",
    "plt.grid()\n",
    "#plt.colorbar()\n",
    "plt.show()"
   ]
  },
  {
   "cell_type": "code",
   "execution_count": null,
   "metadata": {},
   "outputs": [],
   "source": [
    "#just to test the results to see if the excess returns are correct\n",
    "whole_gamma_weight.head(50)"
   ]
  }
 ],
 "metadata": {
  "kernelspec": {
   "display_name": "Python 3",
   "language": "python",
   "name": "python3"
  },
  "language_info": {
   "codemirror_mode": {
    "name": "ipython",
    "version": 3
   },
   "file_extension": ".py",
   "mimetype": "text/x-python",
   "name": "python",
   "nbconvert_exporter": "python",
   "pygments_lexer": "ipython3",
   "version": "3.7.4"
  }
 },
 "nbformat": 4,
 "nbformat_minor": 2
}
